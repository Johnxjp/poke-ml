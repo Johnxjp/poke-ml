{
 "cells": [
  {
   "cell_type": "markdown",
   "metadata": {},
   "source": [
    "# Conditional GAN\n",
    "Training a model to generate pokemon based on their shape.\n",
    "\n",
    "Conditional GAN articles:\n",
    "- https://machinelearningmastery.com/how-to-develop-a-conditional-generative-adversarial-network-from-scratch/\n",
    "- https://arxiv.org/abs/1411.1784"
   ]
  },
  {
   "cell_type": "code",
   "execution_count": 1,
   "metadata": {},
   "outputs": [],
   "source": [
    "%load_ext autoreload\n",
    "%autoreload 2"
   ]
  },
  {
   "cell_type": "code",
   "execution_count": 6,
   "metadata": {},
   "outputs": [],
   "source": [
    "from helper import *"
   ]
  },
  {
   "cell_type": "code",
   "execution_count": 7,
   "metadata": {},
   "outputs": [],
   "source": [
    "data_dir = \"../data\"\n",
    "image_dir = data_dir + '/' + \"images\"\n",
    "data_table = load_index_table()"
   ]
  },
  {
   "cell_type": "code",
   "execution_count": 8,
   "metadata": {},
   "outputs": [
    {
     "data": {
      "text/html": [
       "<div>\n",
       "<style scoped>\n",
       "    .dataframe tbody tr th:only-of-type {\n",
       "        vertical-align: middle;\n",
       "    }\n",
       "\n",
       "    .dataframe tbody tr th {\n",
       "        vertical-align: top;\n",
       "    }\n",
       "\n",
       "    .dataframe thead th {\n",
       "        text-align: right;\n",
       "    }\n",
       "</style>\n",
       "<table border=\"1\" class=\"dataframe\">\n",
       "  <thead>\n",
       "    <tr style=\"text-align: right;\">\n",
       "      <th></th>\n",
       "      <th>national_index</th>\n",
       "      <th>image_file</th>\n",
       "      <th>pokemon_name</th>\n",
       "      <th>type_1</th>\n",
       "      <th>type_2</th>\n",
       "      <th>shape</th>\n",
       "    </tr>\n",
       "  </thead>\n",
       "  <tbody>\n",
       "    <tr>\n",
       "      <th>0</th>\n",
       "      <td>90</td>\n",
       "      <td>090MS.png</td>\n",
       "      <td>shellder</td>\n",
       "      <td>water</td>\n",
       "      <td>NaN</td>\n",
       "      <td>pokemon consisting of only a head</td>\n",
       "    </tr>\n",
       "    <tr>\n",
       "      <th>1</th>\n",
       "      <td>91</td>\n",
       "      <td>091XYMS.png</td>\n",
       "      <td>cloyster</td>\n",
       "      <td>water</td>\n",
       "      <td>ice</td>\n",
       "      <td>pokemon consisting of only a head</td>\n",
       "    </tr>\n",
       "    <tr>\n",
       "      <th>2</th>\n",
       "      <td>92</td>\n",
       "      <td>092MS.png</td>\n",
       "      <td>gastly</td>\n",
       "      <td>ghost</td>\n",
       "      <td>poison</td>\n",
       "      <td>pokemon consisting of only a head</td>\n",
       "    </tr>\n",
       "    <tr>\n",
       "      <th>3</th>\n",
       "      <td>100</td>\n",
       "      <td>100MS.png</td>\n",
       "      <td>voltorb</td>\n",
       "      <td>electric</td>\n",
       "      <td>NaN</td>\n",
       "      <td>pokemon consisting of only a head</td>\n",
       "    </tr>\n",
       "    <tr>\n",
       "      <th>4</th>\n",
       "      <td>101</td>\n",
       "      <td>101MS.png</td>\n",
       "      <td>electrode</td>\n",
       "      <td>electric</td>\n",
       "      <td>NaN</td>\n",
       "      <td>pokemon consisting of only a head</td>\n",
       "    </tr>\n",
       "    <tr>\n",
       "      <th>...</th>\n",
       "      <td>...</td>\n",
       "      <td>...</td>\n",
       "      <td>...</td>\n",
       "      <td>...</td>\n",
       "      <td>...</td>\n",
       "      <td>...</td>\n",
       "    </tr>\n",
       "    <tr>\n",
       "      <th>904</th>\n",
       "      <td>787</td>\n",
       "      <td>787MS.png</td>\n",
       "      <td>tapu bulu</td>\n",
       "      <td>grass</td>\n",
       "      <td>fairy</td>\n",
       "      <td>pokemon consisting of a head and arms</td>\n",
       "    </tr>\n",
       "    <tr>\n",
       "      <th>905</th>\n",
       "      <td>788</td>\n",
       "      <td>788MS.png</td>\n",
       "      <td>tapu fini</td>\n",
       "      <td>water</td>\n",
       "      <td>fairy</td>\n",
       "      <td>pokemon consisting of a head and arms</td>\n",
       "    </tr>\n",
       "    <tr>\n",
       "      <th>906</th>\n",
       "      <td>800</td>\n",
       "      <td>800MS.png</td>\n",
       "      <td>necrozma</td>\n",
       "      <td>psychic</td>\n",
       "      <td>NaN</td>\n",
       "      <td>pokemon consisting of a head and arms</td>\n",
       "    </tr>\n",
       "    <tr>\n",
       "      <th>907</th>\n",
       "      <td>864</td>\n",
       "      <td>864MS.png</td>\n",
       "      <td>cursola</td>\n",
       "      <td>ghost</td>\n",
       "      <td>NaN</td>\n",
       "      <td>pokemon consisting of a head and arms</td>\n",
       "    </tr>\n",
       "    <tr>\n",
       "      <th>908</th>\n",
       "      <td>886</td>\n",
       "      <td>886MS.png</td>\n",
       "      <td>drakloak</td>\n",
       "      <td>dragon</td>\n",
       "      <td>ghost</td>\n",
       "      <td>pokemon consisting of a head and arms</td>\n",
       "    </tr>\n",
       "  </tbody>\n",
       "</table>\n",
       "<p>909 rows × 6 columns</p>\n",
       "</div>"
      ],
      "text/plain": [
       "     national_index   image_file pokemon_name    type_1  type_2  \\\n",
       "0                90    090MS.png     shellder     water     NaN   \n",
       "1                91  091XYMS.png     cloyster     water     ice   \n",
       "2                92    092MS.png       gastly     ghost  poison   \n",
       "3               100    100MS.png      voltorb  electric     NaN   \n",
       "4               101    101MS.png    electrode  electric     NaN   \n",
       "..              ...          ...          ...       ...     ...   \n",
       "904             787    787MS.png    tapu bulu     grass   fairy   \n",
       "905             788    788MS.png    tapu fini     water   fairy   \n",
       "906             800    800MS.png     necrozma   psychic     NaN   \n",
       "907             864    864MS.png      cursola     ghost     NaN   \n",
       "908             886    886MS.png     drakloak    dragon   ghost   \n",
       "\n",
       "                                     shape  \n",
       "0        pokemon consisting of only a head  \n",
       "1        pokemon consisting of only a head  \n",
       "2        pokemon consisting of only a head  \n",
       "3        pokemon consisting of only a head  \n",
       "4        pokemon consisting of only a head  \n",
       "..                                     ...  \n",
       "904  pokemon consisting of a head and arms  \n",
       "905  pokemon consisting of a head and arms  \n",
       "906  pokemon consisting of a head and arms  \n",
       "907  pokemon consisting of a head and arms  \n",
       "908  pokemon consisting of a head and arms  \n",
       "\n",
       "[909 rows x 6 columns]"
      ]
     },
     "execution_count": 8,
     "metadata": {},
     "output_type": "execute_result"
    }
   ],
   "source": [
    "data_table"
   ]
  },
  {
   "cell_type": "code",
   "execution_count": 9,
   "metadata": {},
   "outputs": [
    {
     "data": {
      "image/png": "[encoded data removed]",
      "text/plain": [
       "<PIL.Image.Image image mode=RGB size=32x32 at 0x128591910>"
      ]
     },
     "execution_count": 9,
     "metadata": {},
     "output_type": "execute_result"
    }
   ],
   "source": [
    "file = image_dir + \"/091XYMS.png\"\n",
    "image = load_image(file, image_preprocessing)\n",
    "image"
   ]
  },
  {
   "cell_type": "code",
   "execution_count": 10,
   "metadata": {},
   "outputs": [
    {
     "data": {
      "text/plain": [
       "(32, 32)"
      ]
     },
     "execution_count": 10,
     "metadata": {},
     "output_type": "execute_result"
    }
   ],
   "source": [
    "image.size"
   ]
  },
  {
   "cell_type": "code",
   "execution_count": 11,
   "metadata": {},
   "outputs": [
    {
     "data": {
      "text/plain": [
       "array(['pokemon consisting of only a head',\n",
       "       'pokemon consisting of a head and legs', 'pokemon with fins',\n",
       "       'pokemon with an insectoid body', 'pokemon with a quadruped body',\n",
       "       'pokemon with two or more pairs of wings',\n",
       "       'pokemon consisting of multiple bodies',\n",
       "       'pokemon with tentacles or a multiped body',\n",
       "       'pokemon consisting of a head and a base',\n",
       "       'pokemon with a bipedal tailed form',\n",
       "       'pokemon with a bipedal tailless form',\n",
       "       'pokemon with a single pair of wings',\n",
       "       'pokemon with serpentine bodies',\n",
       "       'pokemon consisting of a head and arms'], dtype=object)"
      ]
     },
     "execution_count": 11,
     "metadata": {},
     "output_type": "execute_result"
    }
   ],
   "source": [
    "labels = data_table[\"shape\"].unique()\n",
    "labels"
   ]
  },
  {
   "cell_type": "code",
   "execution_count": 12,
   "metadata": {},
   "outputs": [
    {
     "data": {
      "text/plain": [
       "{'pokemon consisting of only a head': 0,\n",
       " 'pokemon consisting of a head and legs': 1,\n",
       " 'pokemon with fins': 2,\n",
       " 'pokemon with an insectoid body': 3,\n",
       " 'pokemon with a quadruped body': 4,\n",
       " 'pokemon with two or more pairs of wings': 5,\n",
       " 'pokemon consisting of multiple bodies': 6,\n",
       " 'pokemon with tentacles or a multiped body': 7,\n",
       " 'pokemon consisting of a head and a base': 8,\n",
       " 'pokemon with a bipedal tailed form': 9,\n",
       " 'pokemon with a bipedal tailless form': 10,\n",
       " 'pokemon with a single pair of wings': 11,\n",
       " 'pokemon with serpentine bodies': 12,\n",
       " 'pokemon consisting of a head and arms': 13}"
      ]
     },
     "execution_count": 12,
     "metadata": {},
     "output_type": "execute_result"
    }
   ],
   "source": [
    "label_mapping = {k:v for v, k in enumerate(labels)}\n",
    "inverse_mapping = {v: k for k, v in label_mapping.items()}\n",
    "label_mapping"
   ]
  },
  {
   "cell_type": "markdown",
   "metadata": {},
   "source": [
    "### Transforms"
   ]
  },
  {
   "cell_type": "code",
   "execution_count": 13,
   "metadata": {},
   "outputs": [],
   "source": [
    "use_color = True\n",
    "n_channels = 3 if use_color else 1\n",
    "if use_color:\n",
    "    data_transforms = transforms.Compose([\n",
    "        transforms.ToTensor(),\n",
    "    ])\n",
    "else:\n",
    "    data_transforms = transforms.Compose([\n",
    "        transforms.Grayscale(),\n",
    "        transforms.ToTensor(),\n",
    "    ])"
   ]
  },
  {
   "cell_type": "code",
   "execution_count": 14,
   "metadata": {},
   "outputs": [],
   "source": [
    "ds = IndexDataset(\n",
    "    data_table,\n",
    "    image_dir,\n",
    "    label_mapping=label_mapping,\n",
    "    image_transform=image_preprocessing,\n",
    "    torch_transforms=data_transforms\n",
    ")"
   ]
  },
  {
   "cell_type": "code",
   "execution_count": 15,
   "metadata": {},
   "outputs": [],
   "source": [
    "# Dataloader\n",
    "batch_size = 16\n",
    "shuffle = True\n",
    "training_dataloader = DataLoader(ds, batch_size=batch_size, shuffle=shuffle)"
   ]
  },
  {
   "cell_type": "code",
   "execution_count": 16,
   "metadata": {},
   "outputs": [
    {
     "data": {
      "image/png": "[encoded data removed]",
      "text/plain": [
       "<Figure size 432x288 with 1 Axes>"
      ]
     },
     "metadata": {
      "needs_background": "light"
     },
     "output_type": "display_data"
    }
   ],
   "source": [
    "test_batch_images, test_batch_labels = next(iter(training_dataloader))\n",
    "image_sample = test_batch_images[0]\n",
    "label_sample = test_batch_labels[0]\n",
    "image_sample = image_sample.permute(1, 2, 0)\n",
    "if not use_color:\n",
    "    image_sample = image_sample.squeeze()\n",
    "plt.title(f\"Shape: {inverse_mapping[label_sample.item()]}\")\n",
    "plt.imshow(image_sample)\n",
    "plt.show()"
   ]
  },
  {
   "cell_type": "code",
   "execution_count": 64,
   "metadata": {},
   "outputs": [
    {
     "data": {
      "text/plain": [
       "CGAN(\n",
       "  (embedding): Embedding(14, 250)\n",
       "  (proj1): Linear(in_features=250, out_features=1024, bias=True)\n",
       "  (proj2): Linear(in_features=100, out_features=200, bias=True)\n",
       "  (proj3): Linear(in_features=200, out_features=1024, bias=True)\n",
       "  (proj4): Linear(in_features=2048, out_features=2048, bias=True)\n",
       "  (lrelu): LeakyReLU(negative_slope=0.1)\n",
       "  (deconv_layers): ModuleList(\n",
       "    (0): Sequential(\n",
       "      (0): ConvTranspose2d(128, 64, kernel_size=(4, 4), stride=(2, 2), padding=(1, 1), bias=False)\n",
       "      (1): BatchNorm2d(64, eps=1e-05, momentum=0.1, affine=True, track_running_stats=True)\n",
       "    )\n",
       "    (1): Sequential(\n",
       "      (0): ConvTranspose2d(64, 32, kernel_size=(4, 4), stride=(2, 2), padding=(1, 1), bias=False)\n",
       "      (1): BatchNorm2d(32, eps=1e-05, momentum=0.1, affine=True, track_running_stats=True)\n",
       "    )\n",
       "  )\n",
       "  (final_conv): Sequential(\n",
       "    (0): ConvTranspose2d(32, 3, kernel_size=(4, 4), stride=(2, 2), padding=(1, 1), bias=False)\n",
       "  )\n",
       ")"
      ]
     },
     "execution_count": 64,
     "metadata": {},
     "output_type": "execute_result"
    }
   ],
   "source": [
    "# image is from above\n",
    "image_w, image_h = image.size\n",
    "noise_size = 100\n",
    "n_labels = len(label_mapping)\n",
    "label_embedding = 250\n",
    "G = CGAN(n_labels, noise_size, image_w, image_h, label_embedding)\n",
    "G"
   ]
  },
  {
   "cell_type": "code",
   "execution_count": 65,
   "metadata": {},
   "outputs": [],
   "source": [
    "G.init_weights()"
   ]
  },
  {
   "cell_type": "code",
   "execution_count": 66,
   "metadata": {},
   "outputs": [
    {
     "data": {
      "text/plain": [
       "CDim(\n",
       "  (lrelu): LeakyReLU(negative_slope=0.1)\n",
       "  (conv_layers): ModuleList(\n",
       "    (0): Sequential(\n",
       "      (0): Conv2d(4, 32, kernel_size=(4, 4), stride=(2, 2), padding=(1, 1), bias=False)\n",
       "    )\n",
       "    (1): Sequential(\n",
       "      (0): Conv2d(32, 64, kernel_size=(4, 4), stride=(2, 2), padding=(1, 1), bias=False)\n",
       "      (1): BatchNorm2d(64, eps=1e-05, momentum=0.1, affine=True, track_running_stats=True)\n",
       "    )\n",
       "    (2): Sequential(\n",
       "      (0): Conv2d(64, 128, kernel_size=(4, 4), stride=(2, 2), padding=(1, 1), bias=False)\n",
       "      (1): BatchNorm2d(128, eps=1e-05, momentum=0.1, affine=True, track_running_stats=True)\n",
       "    )\n",
       "  )\n",
       "  (noise): GaussianNoise()\n",
       "  (embedding): Embedding(14, 250)\n",
       "  (proj1): Linear(in_features=250, out_features=1024, bias=True)\n",
       "  (fc): Linear(in_features=2048, out_features=1, bias=True)\n",
       ")"
      ]
     },
     "execution_count": 66,
     "metadata": {},
     "output_type": "execute_result"
    }
   ],
   "source": [
    "D = CDim(n_labels, label_embedding, image_w, image_h)\n",
    "D"
   ]
  },
  {
   "cell_type": "code",
   "execution_count": 67,
   "metadata": {},
   "outputs": [],
   "source": [
    "D.init_weights()"
   ]
  },
  {
   "cell_type": "markdown",
   "metadata": {},
   "source": [
    "### Optimisers"
   ]
  },
  {
   "cell_type": "code",
   "execution_count": 68,
   "metadata": {},
   "outputs": [],
   "source": [
    "# learning rate for optimizers\n",
    "lr_d = 0.0004\n",
    "lr_g = 0.0001\n",
    "\n",
    "# Create optimizers for the discriminator and generator\n",
    "d_optimizer = optim.Adam(D.parameters(), lr=lr_d, betas=(0.5, 0.999))\n",
    "g_optimizer = optim.Adam(G.parameters(), lr=lr_g, betas=(0.5, 0.999))"
   ]
  },
  {
   "cell_type": "markdown",
   "metadata": {},
   "source": [
    "## Training"
   ]
  },
  {
   "cell_type": "code",
   "execution_count": null,
   "metadata": {
    "scrolled": false
   },
   "outputs": [],
   "source": [
    "# training hyperparams\n",
    "num_epochs = 100\n",
    "\n",
    "# keep track of loss and generated, \"fake\" samples\n",
    "all_samples = []\n",
    "losses = []\n",
    "\n",
    "print_every = 400\n",
    "\n",
    "# Get some fixed data for sampling. These are images that are held\n",
    "# constant throughout training, and allow us to inspect the model's performance\n",
    "sample_size=16\n",
    "sample_z = generate_random((sample_size, noise_size))\n",
    "sample_z = torch.from_numpy(sample_z).float()\n",
    "sample_labels = torch.randint(low=0, high=len(label_mapping), size=(sample_size, 1), dtype=torch.long)\n",
    "\n",
    "# train the network\n",
    "D.train()\n",
    "G.train()\n",
    "for epoch in range(num_epochs):\n",
    "    for batch_i, (real_images, labels) in enumerate(training_dataloader):                \n",
    "        batch_size = real_images.size(0)\n",
    "        real_images = scale(real_images, min_val=-1.0, max_val=1.0)\n",
    "        \n",
    "        # ============================================\n",
    "        #            TRAIN THE DISCRIMINATOR\n",
    "        # ============================================\n",
    "                \n",
    "        # 1. Train with real images\n",
    "        d_optimizer.zero_grad()\n",
    "        \n",
    "        # Compute the discriminator losses on real images\n",
    "        # use smoothed labels\n",
    "        batch_out_real = D(real_images, labels)\n",
    "        d_real_loss = real_loss(batch_out_real, smooth=True)\n",
    "        \n",
    "        # 2. Train with fake images\n",
    "        # Generate fake images\n",
    "        z = generate_random((batch_size, noise_size))\n",
    "        z = torch.from_numpy(z).float()\n",
    "        fake_images = G(z, labels)\n",
    "        \n",
    "        # Compute the discriminator losses on fake images        \n",
    "        \n",
    "        # add up real and fake losses and perform backprop\n",
    "        batch_out_fake = D(fake_images, labels)\n",
    "        d_fake_loss = fake_loss(batch_out_fake)\n",
    "    \n",
    "        d_loss = d_fake_loss + d_real_loss\n",
    "        d_loss.backward(retain_graph=True)\n",
    "        d_optimizer.step()\n",
    "        \n",
    "        # =========================================\n",
    "        #            TRAIN THE GENERATOR\n",
    "        # =========================================\n",
    "        \n",
    "        \n",
    "        # 1. Train with fake images and flipped labels\n",
    "        g_optimizer.zero_grad()\n",
    "        g_loss = real_loss(batch_out_fake)\n",
    "        g_loss.backward()\n",
    "        g_optimizer.step()\n",
    "\n",
    "        # Print some loss stats\n",
    "        if batch_i % print_every == 0:\n",
    "            # print discriminator and generator loss\n",
    "            print('Epoch [{:5d}/{:5d}] | d_loss: {:6.4f} | g_loss: {:6.4f}'.format(\n",
    "                    epoch+1, num_epochs, d_loss.item(), g_loss.item()))\n",
    "\n",
    "    \n",
    "    ## AFTER EACH EPOCH##\n",
    "    # append discriminator loss and generator loss\n",
    "    losses.append((d_loss.item(), g_loss.item()))\n",
    "    \n",
    "    # generate and save sample, fake images\n",
    "    G.eval() # eval mode for generating samples\n",
    "    samples = G(sample_z, sample_labels)\n",
    "    all_samples.append(samples)\n",
    "    G.train() # back to train mode\n",
    "\n",
    "\n",
    "# Save training generator samples\n",
    "with open('train_samples.pkl', 'wb') as f:\n",
    "    pkl.dump(samples, f)"
   ]
  },
  {
   "cell_type": "markdown",
   "metadata": {},
   "source": [
    "## Training loss\n",
    "\n",
    "Here we'll plot the training losses for the generator and discriminator, recorded after each epoch."
   ]
  },
  {
   "cell_type": "code",
   "execution_count": 70,
   "metadata": {},
   "outputs": [
    {
     "data": {
      "text/plain": [
       "<matplotlib.legend.Legend at 0x12d888990>"
      ]
     },
     "execution_count": 70,
     "metadata": {},
     "output_type": "execute_result"
    },
    {
     "data": {
      "image/png": "[encoded data removed]",
      "text/plain": [
       "<Figure size 432x288 with 1 Axes>"
      ]
     },
     "metadata": {
      "needs_background": "light"
     },
     "output_type": "display_data"
    }
   ],
   "source": [
    "fig, ax = plt.subplots()\n",
    "losses = np.array(losses)\n",
    "plt.plot(losses.T[0], label='Discriminator')\n",
    "plt.plot(losses.T[1], label='Generator')\n",
    "plt.title(\"Training Losses\")\n",
    "plt.legend()"
   ]
  },
  {
   "cell_type": "markdown",
   "metadata": {},
   "source": [
    "## Sampling"
   ]
  },
  {
   "cell_type": "code",
   "execution_count": 86,
   "metadata": {},
   "outputs": [],
   "source": [
    "def reshape_sample(samples, img_size, is_rgb=True):\n",
    "    samples = (samples + 1) / 2  # Reverse scaling\n",
    "    samples = samples.permute(0, 2, 3, 1)\n",
    "    samples.detach()\n",
    "    return samples.numpy()"
   ]
  },
  {
   "cell_type": "code",
   "execution_count": 91,
   "metadata": {},
   "outputs": [],
   "source": [
    "# randomly generated, new latent vectors\n",
    "sample_size=16\n",
    "rand_z = generate_random((sample_size, noise_size))\n",
    "rand_z = torch.from_numpy(rand_z).float()\n",
    "rand_label = np.random.randint(0, len(label_mapping))\n",
    "rand_labels = torch.zeros((sample_size, 1), dtype=torch.long) + rand_label\n",
    "G.eval() # eval mode\n",
    "# generated samples\n",
    "with torch.no_grad():\n",
    "    rand_images = G(rand_z, rand_labels)\n",
    "    \n",
    "reshaped_images = reshape_sample(rand_images, image_w, is_rgb=use_color).squeeze()"
   ]
  },
  {
   "cell_type": "code",
   "execution_count": null,
   "metadata": {},
   "outputs": [],
   "source": [
    "fig = plt.figure(figsize=(7, 7))\n",
    "plt.title(f\"Samples for {inverse_mapping[rand_label]}\")\n",
    "for i, s in enumerate(reshaped_images):\n",
    "    ax = fig.add_subplot(4, 4, i + 1, xticks=[], yticks=[])\n",
    "    ax.imshow(s, cmap='gray')"
   ]
  },
  {
   "cell_type": "code",
   "execution_count": null,
   "metadata": {},
   "outputs": [],
   "source": []
  }
 ],
 "metadata": {
  "kernelspec": {
   "display_name": "Python 3",
   "language": "python",
   "name": "python3"
  },
  "language_info": {
   "codemirror_mode": {
    "name": "ipython",
    "version": 3
   },
   "file_extension": ".py",
   "mimetype": "text/x-python",
   "name": "python",
   "nbconvert_exporter": "python",
   "pygments_lexer": "ipython3",
   "version": "3.7.6"
  }
 },
 "nbformat": 4,
 "nbformat_minor": 2
}
