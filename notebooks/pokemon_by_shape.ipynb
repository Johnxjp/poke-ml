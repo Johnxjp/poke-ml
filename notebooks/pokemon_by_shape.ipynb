{
 "cells": [
  {
   "cell_type": "code",
   "execution_count": 2,
   "metadata": {},
   "outputs": [],
   "source": [
    "%load_ext autoreload\n",
    "%autoreload 2"
   ]
  },
  {
   "cell_type": "code",
   "execution_count": 1,
   "metadata": {},
   "outputs": [],
   "source": [
    "from bs4 import BeautifulSoup"
   ]
  },
  {
   "cell_type": "code",
   "execution_count": 3,
   "metadata": {},
   "outputs": [],
   "source": [
    "import os\n",
    "import sys\n",
    "\n",
    "sys.path.append(os.path.dirname(os.path.abspath(\".\")))"
   ]
  },
  {
   "cell_type": "code",
   "execution_count": 4,
   "metadata": {},
   "outputs": [],
   "source": [
    "from src.web.webparser import extract_pokemon_tables, parse_poketable "
   ]
  },
  {
   "cell_type": "code",
   "execution_count": 5,
   "metadata": {},
   "outputs": [],
   "source": [
    "with open(\"../data/web/List of Pokémon by shape - Bulbapedia, the community-driven Pokémon encyclopedia.htm\") as f:\n",
    "    content = BeautifulSoup(f, \"html.parser\")"
   ]
  },
  {
   "cell_type": "code",
   "execution_count": 15,
   "metadata": {},
   "outputs": [],
   "source": [
    "h3_tags = content.find_all(name=\"h3\")\n",
    "table_name_tags = filter(lambda tag: tag.text.find(\" Pokémon\") != -1, h3_tags)\n",
    "table_names = [tag.text for tag in table_name_tags]\n",
    "table_names = [text.strip().replace(\"Pokémon\", \"pokemon\") for text in table_names]"
   ]
  },
  {
   "cell_type": "code",
   "execution_count": 16,
   "metadata": {},
   "outputs": [
    {
     "data": {
      "text/plain": [
       "['pokemon consisting of only a head',\n",
       " 'pokemon consisting of a head and legs',\n",
       " 'pokemon with fins',\n",
       " 'pokemon with an insectoid body',\n",
       " 'pokemon with a quadruped body',\n",
       " 'pokemon with two or more pairs of wings',\n",
       " 'pokemon consisting of multiple bodies',\n",
       " 'pokemon with tentacles or a multiped body',\n",
       " 'pokemon consisting of a head and a base',\n",
       " 'pokemon with a bipedal, tailed form',\n",
       " 'pokemon with a bipedal, tailless form',\n",
       " 'pokemon with a single pair of wings',\n",
       " 'pokemon with serpentine bodies',\n",
       " 'pokemon consisting of a head and arms']"
      ]
     },
     "execution_count": 16,
     "metadata": {},
     "output_type": "execute_result"
    }
   ],
   "source": [
    "table_names"
   ]
  },
  {
   "cell_type": "code",
   "execution_count": 77,
   "metadata": {},
   "outputs": [],
   "source": [
    "list_of_pokemon_tables = extract_pokemon_tables(content)"
   ]
  },
  {
   "cell_type": "code",
   "execution_count": 78,
   "metadata": {},
   "outputs": [
    {
     "data": {
      "text/plain": [
       "(14, 14)"
      ]
     },
     "execution_count": 78,
     "metadata": {},
     "output_type": "execute_result"
    }
   ],
   "source": [
    "len(list_of_pokemon_tables), len(table_names)"
   ]
  },
  {
   "cell_type": "code",
   "execution_count": 79,
   "metadata": {},
   "outputs": [],
   "source": [
    "poke_list = []\n",
    "for shape_type, table in zip(table_names, list_of_pokemon_tables):\n",
    "    parsed_table = parse_poketable(table)\n",
    "    for row in parsed_table:\n",
    "        poke_list.append(list(row) + [shape_type])\n",
    "\n",
    "poke_list = sorted(poke_list, key=lambda x: x[0])"
   ]
  },
  {
   "cell_type": "code",
   "execution_count": 83,
   "metadata": {},
   "outputs": [
    {
     "data": {
      "text/plain": [
       "[['882',\n",
       "  'dracovish',\n",
       "  '882MS.png',\n",
       "  'water',\n",
       "  'dragon',\n",
       "  'pokemon consisting of a head and legs'],\n",
       " ['883', 'arctovish', '883MS.png', 'water', 'ice', 'pokemon with fins'],\n",
       " ['884',\n",
       "  'duraludon',\n",
       "  '884MS.png',\n",
       "  'steel',\n",
       "  'dragon',\n",
       "  'pokemon with a bipedal, tailed form'],\n",
       " ['885',\n",
       "  'dreepy',\n",
       "  '885MS.png',\n",
       "  'dragon',\n",
       "  'ghost',\n",
       "  'pokemon with serpentine bodies'],\n",
       " ['886',\n",
       "  'drakloak',\n",
       "  '886MS.png',\n",
       "  'dragon',\n",
       "  'ghost',\n",
       "  'pokemon consisting of a head and arms'],\n",
       " ['887',\n",
       "  'dragapult',\n",
       "  '887MS.png',\n",
       "  'dragon',\n",
       "  'ghost',\n",
       "  'pokemon with a bipedal, tailed form'],\n",
       " ['888',\n",
       "  'zacian',\n",
       "  '888MS.png',\n",
       "  'fairy',\n",
       "  None,\n",
       "  'pokemon with a quadruped body'],\n",
       " ['889',\n",
       "  'zamazenta',\n",
       "  '889MS.png',\n",
       "  'fighting',\n",
       "  None,\n",
       "  'pokemon with a quadruped body'],\n",
       " ['890',\n",
       "  'eternatus',\n",
       "  '890MS.png',\n",
       "  'poison',\n",
       "  'dragon',\n",
       "  'pokemon with a single pair of wings'],\n",
       " ['890',\n",
       "  'eternatus',\n",
       "  '890EMS.png',\n",
       "  'poison',\n",
       "  'dragon',\n",
       "  'pokemon with serpentine bodies']]"
      ]
     },
     "execution_count": 83,
     "metadata": {},
     "output_type": "execute_result"
    }
   ],
   "source": [
    "poke_list[-10:]"
   ]
  },
  {
   "cell_type": "code",
   "execution_count": 80,
   "metadata": {},
   "outputs": [],
   "source": [
    "png_name = [row[2] for row in poke_list]"
   ]
  },
  {
   "cell_type": "code",
   "execution_count": 69,
   "metadata": {},
   "outputs": [],
   "source": [
    "old_list = []\n",
    "with open(\"../data/pokelists/all_generations.tsv\") as f:\n",
    "    for line in f:\n",
    "        old_list.append(line.strip().split(\"\\t\"))"
   ]
  },
  {
   "cell_type": "code",
   "execution_count": 74,
   "metadata": {},
   "outputs": [],
   "source": [
    "old_png = [row[2] for row in old_list]"
   ]
  },
  {
   "cell_type": "code",
   "execution_count": 81,
   "metadata": {},
   "outputs": [
    {
     "data": {
      "text/plain": [
       "(859, 909)"
      ]
     },
     "execution_count": 81,
     "metadata": {},
     "output_type": "execute_result"
    }
   ],
   "source": [
    "len(old_png), len(png_name)"
   ]
  },
  {
   "cell_type": "code",
   "execution_count": 82,
   "metadata": {},
   "outputs": [
    {
     "data": {
      "text/plain": [
       "{'003XYMS.png',\n",
       " '006XYMS.png',\n",
       " '009XYMS.png',\n",
       " '018XYMS.png',\n",
       " '024XYMS.png',\n",
       " '031XYMS.png',\n",
       " '034XYMS.png',\n",
       " '036XYMS.png',\n",
       " '042XYMS.png',\n",
       " '045XYMS.png',\n",
       " '049XYMS.png',\n",
       " '052GMS.png',\n",
       " '055XYMS.png',\n",
       " '059XYMS.png',\n",
       " '062XYMS.png',\n",
       " '065XYMS.png',\n",
       " '068XYMS.png',\n",
       " '071XYMS.png',\n",
       " '073XYMS.png',\n",
       " '076XYMS.png',\n",
       " '078XYMS.png',\n",
       " '080MMS.png',\n",
       " '080XYMS.png',\n",
       " '085XYMS.png',\n",
       " '087XYMS.png',\n",
       " '091XYMS.png',\n",
       " '094XYMS.png',\n",
       " '095XYMS.png',\n",
       " '097XYMS.png',\n",
       " '099XYMS.png',\n",
       " '103XYMS.png',\n",
       " '106XYMS.png',\n",
       " '107XYMS.png',\n",
       " '112XYMS.png',\n",
       " '115XYMS.png',\n",
       " '119XYMS.png',\n",
       " '122XYMS.png',\n",
       " '123XYMS.png',\n",
       " '124XYMS.png',\n",
       " '125XYMS.png',\n",
       " '126XYMS.png',\n",
       " '127MMS.png',\n",
       " '127XYMS.png',\n",
       " '128XYMS.png',\n",
       " '130XYMS.png',\n",
       " '131XYMS.png',\n",
       " '141XYMS.png',\n",
       " '142XYMS.png',\n",
       " '143XYMS.png',\n",
       " '144XYMS.png',\n",
       " '145XYMS.png',\n",
       " '146XYMS.png',\n",
       " '149XYMS.png',\n",
       " '150XYMS.png',\n",
       " '641TMS.png',\n",
       " '642TMS.png',\n",
       " '645TMS.png',\n",
       " '718CMS.png',\n",
       " '718TMS.png',\n",
       " '745MnMS.png',\n",
       " '746ScMS.png',\n",
       " '800DMMS.png',\n",
       " '800DWMS.png',\n",
       " '800UMS.png',\n",
       " '810MS.png',\n",
       " '811MS.png',\n",
       " '812MS.png',\n",
       " '813MS.png',\n",
       " '814MS.png',\n",
       " '815MS.png',\n",
       " '816MS.png',\n",
       " '817MS.png',\n",
       " '818MS.png',\n",
       " '819MS.png',\n",
       " '820MS.png',\n",
       " '821MS.png',\n",
       " '822MS.png',\n",
       " '823MS.png',\n",
       " '824MS.png',\n",
       " '825MS.png',\n",
       " '826MS.png',\n",
       " '827MS.png',\n",
       " '828MS.png',\n",
       " '829MS.png',\n",
       " '830MS.png',\n",
       " '831MS.png',\n",
       " '832MS.png',\n",
       " '833MS.png',\n",
       " '834MS.png',\n",
       " '835MS.png',\n",
       " '836MS.png',\n",
       " '837MS.png',\n",
       " '838MS.png',\n",
       " '839MS.png',\n",
       " '840MS.png',\n",
       " '841MS.png',\n",
       " '842MS.png',\n",
       " '843MS.png',\n",
       " '844MS.png',\n",
       " '845MS.png',\n",
       " '846MS.png',\n",
       " '847MS.png',\n",
       " '848MS.png',\n",
       " '849MS.png',\n",
       " '850MS.png',\n",
       " '851MS.png',\n",
       " '852MS.png',\n",
       " '853MS.png',\n",
       " '854MS.png',\n",
       " '855MS.png',\n",
       " '856MS.png',\n",
       " '857MS.png',\n",
       " '858MS.png',\n",
       " '859MS.png',\n",
       " '860MS.png',\n",
       " '861MS.png',\n",
       " '862MS.png',\n",
       " '863MS.png',\n",
       " '864MS.png',\n",
       " '865MS.png',\n",
       " '866MS.png',\n",
       " '867MS.png',\n",
       " '868MS.png',\n",
       " '869MS.png',\n",
       " '870MS.png',\n",
       " '871MS.png',\n",
       " '872MS.png',\n",
       " '873MS.png',\n",
       " '874MS.png',\n",
       " '875MS.png',\n",
       " '876MS.png',\n",
       " '877MS.png',\n",
       " '878MS.png',\n",
       " '879MS.png',\n",
       " '880MS.png',\n",
       " '881MS.png',\n",
       " '882MS.png',\n",
       " '883MS.png',\n",
       " '884MS.png',\n",
       " '885MS.png',\n",
       " '886MS.png',\n",
       " '887MS.png',\n",
       " '888MS.png',\n",
       " '889MS.png',\n",
       " '890EMS.png',\n",
       " '890MS.png'}"
      ]
     },
     "execution_count": 82,
     "metadata": {},
     "output_type": "execute_result"
    }
   ],
   "source": [
    "set(png_name).difference(old_png)"
   ]
  },
  {
   "cell_type": "code",
   "execution_count": 84,
   "metadata": {},
   "outputs": [],
   "source": [
    "with open(\"../data/web/List of Pokémon by National Pokédex number - Bulbapedia, the community-driven Pokémon encyclopedia.htm\") as f:\n",
    "    national_index_content = BeautifulSoup(f, \"html.parser\")"
   ]
  },
  {
   "cell_type": "code",
   "execution_count": 85,
   "metadata": {},
   "outputs": [],
   "source": [
    "list_of_pokemon_tables = extract_pokemon_tables(national_index_content)"
   ]
  },
  {
   "cell_type": "code",
   "execution_count": 86,
   "metadata": {},
   "outputs": [
    {
     "data": {
      "text/plain": [
       "8"
      ]
     },
     "execution_count": 86,
     "metadata": {},
     "output_type": "execute_result"
    }
   ],
   "source": [
    "len(list_of_pokemon_tables)"
   ]
  },
  {
   "cell_type": "code",
   "execution_count": 88,
   "metadata": {},
   "outputs": [],
   "source": [
    "all_poke_list = []\n",
    "for table in list_of_pokemon_tables:\n",
    "    parsed_table = parse_poketable(table, ndex_col=1)\n",
    "    for row in parsed_table:\n",
    "        all_poke_list.append(list(row) + [shape_type])\n",
    "\n",
    "all_poke_list = sorted(all_poke_list, key=lambda x: x[0])"
   ]
  },
  {
   "cell_type": "code",
   "execution_count": 91,
   "metadata": {},
   "outputs": [],
   "source": [
    "all_png = [row[2] for row in all_poke_list]\n",
    "png_name = [row[2] for row in poke_list]"
   ]
  },
  {
   "cell_type": "code",
   "execution_count": 92,
   "metadata": {},
   "outputs": [
    {
     "data": {
      "text/plain": [
       "{'019AMS.png',\n",
       " '020AMS.png',\n",
       " '026AMS.png',\n",
       " '027AMS.png',\n",
       " '028AMS.png',\n",
       " '037AMS.png',\n",
       " '038AMS.png',\n",
       " '050AMS.png',\n",
       " '051AMS.png',\n",
       " '053AMS.png',\n",
       " '074AMS.png',\n",
       " '075AMS.png',\n",
       " '076ASMMS.png',\n",
       " '077GMS.png',\n",
       " '078GMS.png',\n",
       " '079GMS.png',\n",
       " '083GMS.png',\n",
       " '088AMS.png',\n",
       " '089AMS.png',\n",
       " '103ASMMS.png',\n",
       " '105AMS.png',\n",
       " '110GMS.png',\n",
       " '122GMS.png',\n",
       " '222GMS.png',\n",
       " '263GMS.png',\n",
       " '264GMS.png',\n",
       " '351HMS.png',\n",
       " '351RMS.png',\n",
       " '351SMS.png',\n",
       " '386AMS.png',\n",
       " '386DMS.png',\n",
       " '386SMS.png',\n",
       " '412GMS.png',\n",
       " '412SMS.png',\n",
       " '422EMS.png',\n",
       " '423EMS.png',\n",
       " '479FMS.png',\n",
       " '479LMS.png',\n",
       " '479OMS.png',\n",
       " '479RMS.png',\n",
       " '479WMS.png',\n",
       " '492SMS.png',\n",
       " '521FMS.png',\n",
       " '550BMS.png',\n",
       " '554GMS.png',\n",
       " '555GMS.png',\n",
       " '555GZMS.png',\n",
       " '555ZMS.png',\n",
       " '562GMS.png',\n",
       " '592FMS.png',\n",
       " '593FMS.png',\n",
       " '618GMS.png',\n",
       " '648PMS.png',\n",
       " '741PaMS.png',\n",
       " '741PoMS.png',\n",
       " '741SeMS.png',\n",
       " '888CMS.png',\n",
       " '889CMS.png'}"
      ]
     },
     "execution_count": 92,
     "metadata": {},
     "output_type": "execute_result"
    }
   ],
   "source": [
    "set(all_png).difference(set(png_name))"
   ]
  },
  {
   "cell_type": "code",
   "execution_count": 95,
   "metadata": {},
   "outputs": [
    {
     "data": {
      "text/plain": [
       "['001',\n",
       " 'bulbasaur',\n",
       " '001MS.png',\n",
       " 'grass',\n",
       " 'poison',\n",
       " 'pokemon with a quadruped body']"
      ]
     },
     "execution_count": 95,
     "metadata": {},
     "output_type": "execute_result"
    }
   ],
   "source": [
    "poke_list[0]"
   ]
  },
  {
   "cell_type": "code",
   "execution_count": 96,
   "metadata": {},
   "outputs": [],
   "source": [
    "with open(\"../data/pokelists_new/pokemon_by_shape.tsv\", \"w\") as f:\n",
    "    for ndex, name, img_file, type1, type2, shape in poke_list:\n",
    "        if type2 == None:\n",
    "            type2 = \"none\"\n",
    "        \n",
    "        row = [ndex, name, img_file, type1, type2, shape]\n",
    "        f.write(\"\\t\".join(row) + \"\\n\")"
   ]
  },
  {
   "cell_type": "code",
   "execution_count": 97,
   "metadata": {},
   "outputs": [],
   "source": [
    "with open(\"../data/pokelists_new/pokemon_by_national_index.tsv\", \"w\") as f:\n",
    "    for ndex, name, img_file, type1, type2, shape in all_poke_list:\n",
    "        if type2 == None:\n",
    "            type2 = \"none\"\n",
    "        \n",
    "        row = [ndex, name, img_file, type1, type2, shape]\n",
    "        f.write(\"\\t\".join(row) + \"\\n\")"
   ]
  },
  {
   "cell_type": "code",
   "execution_count": null,
   "metadata": {},
   "outputs": [],
   "source": []
  }
 ],
 "metadata": {
  "kernelspec": {
   "display_name": "Python 3",
   "language": "python",
   "name": "python3"
  },
  "language_info": {
   "codemirror_mode": {
    "name": "ipython",
    "version": 3
   },
   "file_extension": ".py",
   "mimetype": "text/x-python",
   "name": "python",
   "nbconvert_exporter": "python",
   "pygments_lexer": "ipython3",
   "version": "3.7.3"
  }
 },
 "nbformat": 4,
 "nbformat_minor": 2
}
