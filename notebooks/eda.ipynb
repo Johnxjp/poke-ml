{
 "cells": [
  {
   "cell_type": "markdown",
   "metadata": {},
   "source": [
    "# Data Analysis"
   ]
  },
  {
   "cell_type": "code",
   "execution_count": null,
   "metadata": {},
   "outputs": [
    {
     "name": "stderr",
     "output_type": "stream",
     "text": [
      "Matplotlib is building the font cache using fc-list. This may take a moment.\n"
     ]
    }
   ],
   "source": [
    "import pandas as pd\n",
    "import matplotlib.pyplot as plt"
   ]
  },
  {
   "cell_type": "code",
   "execution_count": 14,
   "metadata": {},
   "outputs": [],
   "source": [
    "pokedex = pd.read_csv(\"../data/pokelists/all_generations.tsv\", sep=\"\\t\", header=None)\n",
    "pokedex.columns = ['national_index', 'pokemon', 'image_file', 'type_1', 'type_2']"
   ]
  },
  {
   "cell_type": "code",
   "execution_count": 15,
   "metadata": {},
   "outputs": [
    {
     "data": {
      "text/html": [
       "<div>\n",
       "<style scoped>\n",
       "    .dataframe tbody tr th:only-of-type {\n",
       "        vertical-align: middle;\n",
       "    }\n",
       "\n",
       "    .dataframe tbody tr th {\n",
       "        vertical-align: top;\n",
       "    }\n",
       "\n",
       "    .dataframe thead th {\n",
       "        text-align: right;\n",
       "    }\n",
       "</style>\n",
       "<table border=\"1\" class=\"dataframe\">\n",
       "  <thead>\n",
       "    <tr style=\"text-align: right;\">\n",
       "      <th></th>\n",
       "      <th>national_index</th>\n",
       "      <th>pokemon</th>\n",
       "      <th>image_file</th>\n",
       "      <th>type_1</th>\n",
       "      <th>type_2</th>\n",
       "    </tr>\n",
       "  </thead>\n",
       "  <tbody>\n",
       "    <tr>\n",
       "      <th>0</th>\n",
       "      <td>001</td>\n",
       "      <td>bulbasaur</td>\n",
       "      <td>001MS.png</td>\n",
       "      <td>grass</td>\n",
       "      <td>poison</td>\n",
       "    </tr>\n",
       "    <tr>\n",
       "      <th>1</th>\n",
       "      <td>002</td>\n",
       "      <td>ivysaur</td>\n",
       "      <td>002MS.png</td>\n",
       "      <td>grass</td>\n",
       "      <td>poison</td>\n",
       "    </tr>\n",
       "    <tr>\n",
       "      <th>2</th>\n",
       "      <td>003</td>\n",
       "      <td>venusaur</td>\n",
       "      <td>003MS.png</td>\n",
       "      <td>grass</td>\n",
       "      <td>poison</td>\n",
       "    </tr>\n",
       "    <tr>\n",
       "      <th>3</th>\n",
       "      <td>004</td>\n",
       "      <td>charmander</td>\n",
       "      <td>004MS.png</td>\n",
       "      <td>fire</td>\n",
       "      <td>NaN</td>\n",
       "    </tr>\n",
       "    <tr>\n",
       "      <th>4</th>\n",
       "      <td>005</td>\n",
       "      <td>charmeleon</td>\n",
       "      <td>005MS.png</td>\n",
       "      <td>fire</td>\n",
       "      <td>NaN</td>\n",
       "    </tr>\n",
       "  </tbody>\n",
       "</table>\n",
       "</div>"
      ],
      "text/plain": [
       "  national_index     pokemon image_file type_1  type_2\n",
       "0            001   bulbasaur  001MS.png  grass  poison\n",
       "1            002     ivysaur  002MS.png  grass  poison\n",
       "2            003    venusaur  003MS.png  grass  poison\n",
       "3            004  charmander  004MS.png   fire     NaN\n",
       "4            005  charmeleon  005MS.png   fire     NaN"
      ]
     },
     "execution_count": 15,
     "metadata": {},
     "output_type": "execute_result"
    }
   ],
   "source": [
    "pokedex.head()"
   ]
  },
  {
   "cell_type": "code",
   "execution_count": 13,
   "metadata": {},
   "outputs": [
    {
     "name": "stdout",
     "output_type": "stream",
     "text": [
      "Total Number of Pokemon: 859\n"
     ]
    }
   ],
   "source": [
    "print(f\"Total Number of Pokemon: {pokedex.shape[0]}\")"
   ]
  },
  {
   "cell_type": "code",
   "execution_count": 17,
   "metadata": {},
   "outputs": [
    {
     "data": {
      "text/plain": [
       "water       121\n",
       "normal      107\n",
       "grass        81\n",
       "bug          76\n",
       "psychic      58\n",
       "fire         57\n",
       "rock         49\n",
       "electric     47\n",
       "poison       36\n",
       "ground       34\n",
       "dark         33\n",
       "ghost        29\n",
       "fighting     29\n",
       "ice          28\n",
       "dragon       27\n",
       "steel        26\n",
       "fairy        18\n",
       "flying        3\n",
       "Name: type_1, dtype: int64"
      ]
     },
     "execution_count": 17,
     "metadata": {},
     "output_type": "execute_result"
    }
   ],
   "source": [
    "count_type_1 = pokedex.type_1.value_counts()\n",
    "count_type_1"
   ]
  },
  {
   "cell_type": "code",
   "execution_count": 18,
   "metadata": {},
   "outputs": [
    {
     "data": {
      "text/plain": [
       "flying      101\n",
       "ground       34\n",
       "poison       32\n",
       "psychic      31\n",
       "fairy        30\n",
       "steel        28\n",
       "fighting     26\n",
       "dragon       20\n",
       "dark         20\n",
       "grass        20\n",
       "ghost        19\n",
       "water        18\n",
       "rock         14\n",
       "ice          12\n",
       "fire         12\n",
       "electric     11\n",
       "normal        6\n",
       "bug           5\n",
       "Name: type_2, dtype: int64"
      ]
     },
     "execution_count": 18,
     "metadata": {},
     "output_type": "execute_result"
    }
   ],
   "source": [
    "count_type_2 = pokedex.type_2.value_counts()\n",
    "count_type_2"
   ]
  },
  {
   "cell_type": "code",
   "execution_count": null,
   "metadata": {},
   "outputs": [],
   "source": []
  }
 ],
 "metadata": {
  "kernelspec": {
   "display_name": "Python 3",
   "language": "python",
   "name": "python3"
  },
  "language_info": {
   "codemirror_mode": {
    "name": "ipython",
    "version": 3
   },
   "file_extension": ".py",
   "mimetype": "text/x-python",
   "name": "python",
   "nbconvert_exporter": "python",
   "pygments_lexer": "ipython3",
   "version": "3.7.3"
  }
 },
 "nbformat": 4,
 "nbformat_minor": 2
}
